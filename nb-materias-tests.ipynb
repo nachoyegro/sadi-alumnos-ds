{
 "cells": [
  {
   "cell_type": "code",
   "execution_count": 4,
   "metadata": {},
   "outputs": [
    {
     "data": {
      "text/plain": [
       "154"
      ]
     },
     "execution_count": 4,
     "metadata": {},
     "output_type": "execute_result"
    }
   ],
   "source": [
    "import pandas as pd\n",
    "from pandas.io.json import json_normalize\n",
    "from source.transformer import DataTransformer\n",
    "from source.manipulator import DataManipulator\n",
    "import json\n",
    "transformer = DataTransformer()\n",
    "manipulator = DataManipulator()\n",
    "with open('source/tests/alumnos_test.json', 'r') as archivo_alumnos:\n",
    "            data = json.loads(archivo_alumnos.read())\n",
    "            df_materias = transformer.transform_to_dataframe(data)\n",
    "with open('source/tests/plan_test.json', 'r') as archivo_plan:\n",
    "    data = json.loads(archivo_plan.read())\n",
    "    df_plan = transformer.transform_to_dataframe(data)\n",
    "df = transformer.merge_materias_con_plan(\n",
    "            df_materias, df_plan)\n",
    "len(df)"
   ]
  },
  {
   "cell_type": "code",
   "execution_count": null,
   "metadata": {},
   "outputs": [],
   "source": []
  },
  {
   "cell_type": "code",
   "execution_count": 2,
   "metadata": {},
   "outputs": [
    {
     "data": {
      "text/html": [
       "<div>\n",
       "<style scoped>\n",
       "    .dataframe tbody tr th:only-of-type {\n",
       "        vertical-align: middle;\n",
       "    }\n",
       "\n",
       "    .dataframe tbody tr th {\n",
       "        vertical-align: top;\n",
       "    }\n",
       "\n",
       "    .dataframe thead th {\n",
       "        text-align: right;\n",
       "    }\n",
       "</style>\n",
       "<table border=\"1\" class=\"dataframe\">\n",
       "  <thead>\n",
       "    <tr style=\"text-align: right;\">\n",
       "      <th></th>\n",
       "      <th>alumno</th>\n",
       "      <th>carrera</th>\n",
       "      <th>fecha</th>\n",
       "      <th>codigo</th>\n",
       "      <th>nota</th>\n",
       "      <th>resultado</th>\n",
       "      <th>area</th>\n",
       "      <th>cantidad_obligatoria_de</th>\n",
       "      <th>creditos</th>\n",
       "      <th>id</th>\n",
       "      <th>materia</th>\n",
       "      <th>nucleo</th>\n",
       "      <th>obligatorias</th>\n",
       "      <th>plan</th>\n",
       "      <th>recomendadas</th>\n",
       "    </tr>\n",
       "  </thead>\n",
       "  <tbody>\n",
       "    <tr>\n",
       "      <th>28</th>\n",
       "      <td>1</td>\n",
       "      <td>D</td>\n",
       "      <td>2002-08-22</td>\n",
       "      <td>00628</td>\n",
       "      <td>A</td>\n",
       "      <td>A</td>\n",
       "      <td>None</td>\n",
       "      <td>0</td>\n",
       "      <td>9</td>\n",
       "      <td>179</td>\n",
       "      <td>QUÍMICA I</td>\n",
       "      <td>None</td>\n",
       "      <td>[]</td>\n",
       "      <td>2003</td>\n",
       "      <td>[]</td>\n",
       "    </tr>\n",
       "    <tr>\n",
       "      <th>29</th>\n",
       "      <td>2</td>\n",
       "      <td>D</td>\n",
       "      <td>2004-07-01</td>\n",
       "      <td>00628</td>\n",
       "      <td></td>\n",
       "      <td>U</td>\n",
       "      <td>None</td>\n",
       "      <td>0</td>\n",
       "      <td>9</td>\n",
       "      <td>179</td>\n",
       "      <td>QUÍMICA I</td>\n",
       "      <td>None</td>\n",
       "      <td>[]</td>\n",
       "      <td>2003</td>\n",
       "      <td>[]</td>\n",
       "    </tr>\n",
       "    <tr>\n",
       "      <th>30</th>\n",
       "      <td>2</td>\n",
       "      <td>D</td>\n",
       "      <td>2005-07-01</td>\n",
       "      <td>00628</td>\n",
       "      <td></td>\n",
       "      <td>U</td>\n",
       "      <td>None</td>\n",
       "      <td>0</td>\n",
       "      <td>9</td>\n",
       "      <td>179</td>\n",
       "      <td>QUÍMICA I</td>\n",
       "      <td>None</td>\n",
       "      <td>[]</td>\n",
       "      <td>2003</td>\n",
       "      <td>[]</td>\n",
       "    </tr>\n",
       "    <tr>\n",
       "      <th>31</th>\n",
       "      <td>2</td>\n",
       "      <td>D</td>\n",
       "      <td>2008-07-01</td>\n",
       "      <td>00628</td>\n",
       "      <td>9</td>\n",
       "      <td>P</td>\n",
       "      <td>None</td>\n",
       "      <td>0</td>\n",
       "      <td>9</td>\n",
       "      <td>179</td>\n",
       "      <td>QUÍMICA I</td>\n",
       "      <td>None</td>\n",
       "      <td>[]</td>\n",
       "      <td>2003</td>\n",
       "      <td>[]</td>\n",
       "    </tr>\n",
       "    <tr>\n",
       "      <th>32</th>\n",
       "      <td>3</td>\n",
       "      <td>D</td>\n",
       "      <td>2002-12-15</td>\n",
       "      <td>00628</td>\n",
       "      <td></td>\n",
       "      <td>U</td>\n",
       "      <td>None</td>\n",
       "      <td>0</td>\n",
       "      <td>9</td>\n",
       "      <td>179</td>\n",
       "      <td>QUÍMICA I</td>\n",
       "      <td>None</td>\n",
       "      <td>[]</td>\n",
       "      <td>2003</td>\n",
       "      <td>[]</td>\n",
       "    </tr>\n",
       "    <tr>\n",
       "      <th>33</th>\n",
       "      <td>3</td>\n",
       "      <td>D</td>\n",
       "      <td>2007-07-01</td>\n",
       "      <td>00628</td>\n",
       "      <td></td>\n",
       "      <td>U</td>\n",
       "      <td>None</td>\n",
       "      <td>0</td>\n",
       "      <td>9</td>\n",
       "      <td>179</td>\n",
       "      <td>QUÍMICA I</td>\n",
       "      <td>None</td>\n",
       "      <td>[]</td>\n",
       "      <td>2003</td>\n",
       "      <td>[]</td>\n",
       "    </tr>\n",
       "    <tr>\n",
       "      <th>34</th>\n",
       "      <td>3</td>\n",
       "      <td>D</td>\n",
       "      <td>2010-07-08</td>\n",
       "      <td>00628</td>\n",
       "      <td>8</td>\n",
       "      <td>P</td>\n",
       "      <td>None</td>\n",
       "      <td>0</td>\n",
       "      <td>9</td>\n",
       "      <td>179</td>\n",
       "      <td>QUÍMICA I</td>\n",
       "      <td>None</td>\n",
       "      <td>[]</td>\n",
       "      <td>2003</td>\n",
       "      <td>[]</td>\n",
       "    </tr>\n",
       "  </tbody>\n",
       "</table>\n",
       "</div>"
      ],
      "text/plain": [
       "   alumno carrera       fecha codigo nota resultado  area  \\\n",
       "28      1       D  2002-08-22  00628    A         A  None   \n",
       "29      2       D  2004-07-01  00628              U  None   \n",
       "30      2       D  2005-07-01  00628              U  None   \n",
       "31      2       D  2008-07-01  00628    9         P  None   \n",
       "32      3       D  2002-12-15  00628              U  None   \n",
       "33      3       D  2007-07-01  00628              U  None   \n",
       "34      3       D  2010-07-08  00628    8         P  None   \n",
       "\n",
       "    cantidad_obligatoria_de  creditos   id    materia nucleo obligatorias  \\\n",
       "28                        0         9  179  QUÍMICA I   None           []   \n",
       "29                        0         9  179  QUÍMICA I   None           []   \n",
       "30                        0         9  179  QUÍMICA I   None           []   \n",
       "31                        0         9  179  QUÍMICA I   None           []   \n",
       "32                        0         9  179  QUÍMICA I   None           []   \n",
       "33                        0         9  179  QUÍMICA I   None           []   \n",
       "34                        0         9  179  QUÍMICA I   None           []   \n",
       "\n",
       "    plan recomendadas  \n",
       "28  2003           []  \n",
       "29  2003           []  \n",
       "30  2003           []  \n",
       "31  2003           []  \n",
       "32  2003           []  \n",
       "33  2003           []  \n",
       "34  2003           []  "
      ]
     },
     "execution_count": 2,
     "metadata": {},
     "output_type": "execute_result"
    }
   ],
   "source": [
    "df = manipulator.filtrar_alumnos_de_materia_periodo(df, '00628', '2001-01-01', '2011-10-10')\n",
    "df"
   ]
  },
  {
   "cell_type": "code",
   "execution_count": 3,
   "metadata": {},
   "outputs": [
    {
     "ename": "AttributeError",
     "evalue": "'DataManipulator' object has no attribute 'cantidad_alumnos_desaprobados_periodo'",
     "output_type": "error",
     "traceback": [
      "\u001b[0;31m---------------------------------------------------------------------------\u001b[0m",
      "\u001b[0;31mAttributeError\u001b[0m                            Traceback (most recent call last)",
      "\u001b[0;32m<ipython-input-3-3e65ec3d3ea6>\u001b[0m in \u001b[0;36m<module>\u001b[0;34m\u001b[0m\n\u001b[0;32m----> 1\u001b[0;31m \u001b[0mmanipulator\u001b[0m\u001b[0;34m.\u001b[0m\u001b[0mcantidad_alumnos_desaprobados_periodo\u001b[0m\u001b[0;34m(\u001b[0m\u001b[0mdf\u001b[0m\u001b[0;34m,\u001b[0m \u001b[0;34m'00628'\u001b[0m\u001b[0;34m,\u001b[0m \u001b[0;34m'2001-01-01'\u001b[0m\u001b[0;34m,\u001b[0m \u001b[0;34m'2010-10-10'\u001b[0m\u001b[0;34m)\u001b[0m\u001b[0;34m\u001b[0m\u001b[0;34m\u001b[0m\u001b[0m\n\u001b[0m",
      "\u001b[0;31mAttributeError\u001b[0m: 'DataManipulator' object has no attribute 'cantidad_alumnos_desaprobados_periodo'"
     ]
    }
   ],
   "source": [
    "manipulator.cantidad_alumnos_desaprobados_periodo(df, '00628', '2001-01-01', '2010-10-10')"
   ]
  },
  {
   "cell_type": "code",
   "execution_count": null,
   "metadata": {},
   "outputs": [],
   "source": [
    "manipulator.cantidad_alumnos_ausentes_periodo(df, '00628', '2001-01-01', '2010-10-10')"
   ]
  },
  {
   "cell_type": "code",
   "execution_count": null,
   "metadata": {},
   "outputs": [],
   "source": [
    "manipulator.cantidad_alumnos_pendientes_periodo(df, '00628', '2001-01-01', '2010-10-10')"
   ]
  },
  {
   "cell_type": "code",
   "execution_count": null,
   "metadata": {},
   "outputs": [],
   "source": [
    "manipulator.cantidad_alumnos_aprobados_periodo(df, '00628', '2001-01-01', '2010-10-10')"
   ]
  },
  {
   "cell_type": "code",
   "execution_count": null,
   "metadata": {},
   "outputs": [],
   "source": [
    "manipulator.cantidad_alumnos_falta_aprobar_periodo(df, '00628', '2001-01-01', '2010-10-10')"
   ]
  },
  {
   "cell_type": "code",
   "execution_count": null,
   "metadata": {},
   "outputs": [],
   "source": []
  },
  {
   "cell_type": "code",
   "execution_count": null,
   "metadata": {},
   "outputs": [],
   "source": []
  }
 ],
 "metadata": {
  "kernelspec": {
   "display_name": "Python 3",
   "language": "python",
   "name": "python3"
  },
  "language_info": {
   "codemirror_mode": {
    "name": "ipython",
    "version": 3
   },
   "file_extension": ".py",
   "mimetype": "text/x-python",
   "name": "python",
   "nbconvert_exporter": "python",
   "pygments_lexer": "ipython3",
   "version": "3.7.3"
  }
 },
 "nbformat": 4,
 "nbformat_minor": 2
}
